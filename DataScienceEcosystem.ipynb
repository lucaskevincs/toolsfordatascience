{
 "cells": [
  {
   "cell_type": "markdown",
   "id": "d8f63bdf",
   "metadata": {},
   "source": [
    "# Data Science Tools and Ecosystem"
   ]
  },
  {
   "cell_type": "markdown",
   "id": "5d8374d1",
   "metadata": {},
   "source": [
    "## Introdution"
   ]
  },
  {
   "cell_type": "code",
   "execution_count": 1,
   "id": "8218cf44",
   "metadata": {
    "ExecuteTime": {
     "end_time": "2023-10-03T00:17:14.162106Z",
     "start_time": "2023-10-03T00:17:14.153112Z"
    }
   },
   "outputs": [],
   "source": [
    "#In this notebook, Data Science Tools and Ecosystem are summarized."
   ]
  },
  {
   "cell_type": "markdown",
   "id": "9bfacd0c",
   "metadata": {},
   "source": [
    "## Objectives"
   ]
  },
  {
   "cell_type": "markdown",
   "id": "6fef3d4c",
   "metadata": {
    "ExecuteTime": {
     "end_time": "2023-10-03T00:50:51.028552Z",
     "start_time": "2023-10-03T00:50:51.015300Z"
    }
   },
   "source": [
    "**Objectives:** \n",
    "List popular languages for Data Science:\n",
    "Python\n",
    "R\n",
    "SQL"
   ]
  },
  {
   "cell_type": "markdown",
   "id": "8fccba94",
   "metadata": {},
   "source": [
    "## Data Science languages"
   ]
  },
  {
   "cell_type": "code",
   "execution_count": 2,
   "id": "b0e5cd96",
   "metadata": {
    "ExecuteTime": {
     "end_time": "2023-10-03T00:22:49.964108Z",
     "start_time": "2023-10-03T00:22:49.957429Z"
    }
   },
   "outputs": [],
   "source": [
    "#Some of the popular languages that Data Scientists use are:\n",
    "# 1 - Python\n",
    "# 2 - R\n",
    "# 3 - SQL"
   ]
  },
  {
   "cell_type": "markdown",
   "id": "4e634c53",
   "metadata": {},
   "source": [
    "## Data Science libraries"
   ]
  },
  {
   "cell_type": "code",
   "execution_count": 3,
   "id": "fe0e3b9d",
   "metadata": {
    "ExecuteTime": {
     "end_time": "2023-10-03T00:32:43.330775Z",
     "start_time": "2023-10-03T00:32:43.313649Z"
    }
   },
   "outputs": [],
   "source": [
    "#Some of the commonly used libraries used by Data Scientists include:\n",
    "# 1 - Numpy\n",
    "# 2 - Pandas\n",
    "# 3 - Matplotlib"
   ]
  },
  {
   "cell_type": "markdown",
   "id": "1d3bb637",
   "metadata": {},
   "source": [
    "## Data Science Tools"
   ]
  },
  {
   "cell_type": "code",
   "execution_count": 5,
   "id": "1a5c93a4",
   "metadata": {
    "ExecuteTime": {
     "end_time": "2023-10-03T00:40:07.565344Z",
     "start_time": "2023-10-03T00:40:07.550226Z"
    }
   },
   "outputs": [
    {
     "data": {
      "text/html": [
       "<div>\n",
       "<style scoped>\n",
       "    .dataframe tbody tr th:only-of-type {\n",
       "        vertical-align: middle;\n",
       "    }\n",
       "\n",
       "    .dataframe tbody tr th {\n",
       "        vertical-align: top;\n",
       "    }\n",
       "\n",
       "    .dataframe thead th {\n",
       "        text-align: right;\n",
       "    }\n",
       "</style>\n",
       "<table border=\"1\" class=\"dataframe\">\n",
       "  <thead>\n",
       "    <tr style=\"text-align: right;\">\n",
       "      <th></th>\n",
       "      <th>Data Science Tools</th>\n",
       "    </tr>\n",
       "  </thead>\n",
       "  <tbody>\n",
       "    <tr>\n",
       "      <th>0</th>\n",
       "      <td>RStudio</td>\n",
       "    </tr>\n",
       "    <tr>\n",
       "      <th>1</th>\n",
       "      <td>Apache Spark</td>\n",
       "    </tr>\n",
       "    <tr>\n",
       "      <th>2</th>\n",
       "      <td>TensorFlow</td>\n",
       "    </tr>\n",
       "  </tbody>\n",
       "</table>\n",
       "</div>"
      ],
      "text/plain": [
       "  Data Science Tools\n",
       "0            RStudio\n",
       "1       Apache Spark\n",
       "2         TensorFlow"
      ]
     },
     "execution_count": 5,
     "metadata": {},
     "output_type": "execute_result"
    }
   ],
   "source": [
    "# Import pandas library\n",
    "import pandas as pd\n",
    "  \n",
    "# initialize list elements\n",
    "data = ['RStudio', 'Apache Spark', 'TensorFlow']\n",
    "  \n",
    "# Create the pandas DataFrame with column name is provided explicitly\n",
    "df = pd.DataFrame(data, columns=['Data Science Tools'])\n",
    "  \n",
    "# print dataframe.\n",
    "df"
   ]
  },
  {
   "cell_type": "markdown",
   "id": "51753a46",
   "metadata": {},
   "source": [
    "## Arithmetic expression examples"
   ]
  },
  {
   "cell_type": "markdown",
   "id": "1cb80391",
   "metadata": {},
   "source": [
    "### Below are a few examples of evaluating arithmetic expressions in Python"
   ]
  },
  {
   "cell_type": "code",
   "execution_count": 7,
   "id": "98663254",
   "metadata": {
    "ExecuteTime": {
     "end_time": "2023-10-03T00:45:00.134568Z",
     "start_time": "2023-10-03T00:45:00.124922Z"
    }
   },
   "outputs": [
    {
     "data": {
      "text/plain": [
       "17"
      ]
     },
     "execution_count": 7,
     "metadata": {},
     "output_type": "execute_result"
    }
   ],
   "source": [
    "#This a simple arithmetic expression to mutiply then add integers\n",
    "(3*4)+5"
   ]
  },
  {
   "cell_type": "code",
   "execution_count": 10,
   "id": "44e45b46",
   "metadata": {
    "ExecuteTime": {
     "end_time": "2023-10-03T00:53:29.683361Z",
     "start_time": "2023-10-03T00:53:29.666683Z"
    }
   },
   "outputs": [
    {
     "data": {
      "text/plain": [
       "3.3333333333333335"
      ]
     },
     "execution_count": 10,
     "metadata": {},
     "output_type": "execute_result"
    }
   ],
   "source": [
    "#This will convert 200 minutes to hours by diving by 60\n",
    "(200/60)"
   ]
  },
  {
   "cell_type": "markdown",
   "id": "04ac4b1d",
   "metadata": {},
   "source": [
    "## Author: \n",
    "Lucas Kevin Cleypaul Santos"
   ]
  }
 ],
 "metadata": {
  "kernelspec": {
   "display_name": "Python 3 (ipykernel)",
   "language": "python",
   "name": "python3"
  },
  "language_info": {
   "codemirror_mode": {
    "name": "ipython",
    "version": 3
   },
   "file_extension": ".py",
   "mimetype": "text/x-python",
   "name": "python",
   "nbconvert_exporter": "python",
   "pygments_lexer": "ipython3",
   "version": "3.9.12"
  }
 },
 "nbformat": 4,
 "nbformat_minor": 5
}
